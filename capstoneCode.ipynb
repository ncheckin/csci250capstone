{
 "cells": [
  {
   "cell_type": "code",
   "execution_count": 1,
   "id": "7b3697bc-13f2-4dcf-9f85-b60322f1e2f5",
   "metadata": {},
   "outputs": [
    {
     "name": "stderr",
     "output_type": "stream",
     "text": [
      "/tmp/ipykernel_3064/656262204.py:35: RuntimeWarning: This channel is already in use, continuing anyway.  Use GPIO.setwarnings(False) to disable warnings.\n",
      "  GPIO.setup(speaker_pin, GPIO.OUT)\n"
     ]
    }
   ],
   "source": [
    "import RPi.GPIO as GPIO\n",
    "import time\n",
    "import spidev\n",
    "'''\n",
    "#this code works\n",
    "# GPIO pin for the phototransistor\n",
    "phototransistor_pin = 17\n",
    "\n",
    "# Initialize GPIO\n",
    "GPIO.setmode(GPIO.BCM)\n",
    "GPIO.setup(phototransistor_pin, GPIO.IN)\n",
    "\n",
    "try:\n",
    "    while True:\n",
    "        # Read digital output from phototransistor\n",
    "        digital_output = GPIO.input(phototransistor_pin)\n",
    "        \n",
    "        if digital_output == GPIO.HIGH:\n",
    "            print(\"Digital output: HIGH\")\n",
    "        else:\n",
    "            print(\"Digital output: LOW\")\n",
    "        \n",
    "        time.sleep(1)  # Check every second\n",
    "\n",
    "except KeyboardInterrupt:\n",
    "    GPIO.cleanup()\n",
    "#voltage and current vals: p=ir^2, p=iv, i = 7.8mA, v= way too high?    \n",
    "\n",
    "'''\n",
    "# GPIO pin connected to the speaker\n",
    "speaker_pin = 27\n",
    "\n",
    "# Setup GPIO\n",
    "GPIO.setmode(GPIO.BCM)\n",
    "GPIO.setup(speaker_pin, GPIO.OUT)\n",
    "\n",
    "# Function to play a tone\n",
    "def play_tone(frequency, duration):\n",
    "    pwm = GPIO.PWM(speaker_pin, frequency)\n",
    "    pwm.start(100)  # Duty cycle of 50% (can be adjusted)\n",
    "    time.sleep(duration)\n",
    "    pwm.stop()\n",
    "\n",
    "try:\n",
    "    # Play a tone at 1000 Hz for 1 second\n",
    "    play_tone(1000, 10)\n",
    "except KeyboardInterrupt:\n",
    "    # Cleanup GPIO\n",
    "    GPIO.cleanup()\n",
    "    "
   ]
  },
  {
   "cell_type": "code",
   "execution_count": null,
   "id": "ed220b22-f179-4e17-93e7-552d73bf35c0",
   "metadata": {},
   "outputs": [],
   "source": []
  },
  {
   "cell_type": "code",
   "execution_count": null,
   "id": "4d356b54-f99a-4603-8a27-26dae393ff22",
   "metadata": {},
   "outputs": [],
   "source": []
  }
 ],
 "metadata": {
  "kernelspec": {
   "display_name": "Python 3 (ipykernel)",
   "language": "python",
   "name": "python3"
  },
  "language_info": {
   "codemirror_mode": {
    "name": "ipython",
    "version": 3
   },
   "file_extension": ".py",
   "mimetype": "text/x-python",
   "name": "python",
   "nbconvert_exporter": "python",
   "pygments_lexer": "ipython3",
   "version": "3.9.2"
  }
 },
 "nbformat": 4,
 "nbformat_minor": 5
}
