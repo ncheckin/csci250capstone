{
 "cells": [
  {
   "cell_type": "markdown",
   "metadata": {},
   "source": [
    "<img src=\"https://3a2vzv37nkuw3esf6a3u2t7s-wpengine.netdna-ssl.com/webcentral/wp-content/uploads/sites/267/2019/02/horizontaldarkbackground.jpg\" width=\"55%\" align=\"left\"> \n",
    "<br><br><br><br><br>\n",
    "<font size=3 color='#08088A'>\n",
    "<b>CSCI250 Python Computing: Building a Sensor System</b> <br><br>\n",
    "Capstone final report\n",
    "</font>\n",
    "<hr style=\"height:5px\" width=\"55%\" align=\"left\">"
   ]
  },
  {
   "cell_type": "markdown",
   "metadata": {},
   "source": [
    "# The Silly Security System (SSS)\n",
    "\n",
    "Insert one or more pictures of your project. \n",
    "You can do this by clicking **Edit** in the menu bar, then **Insert Image**."
   ]
  },
  {
   "cell_type": "markdown",
   "metadata": {},
   "source": [
    "# Group \n",
    "\n",
    "List all members and indicate specific project responsibilities:\n",
    "\n",
    "* Nikolai Checkin, Lead Programmer\n",
    "* Brady Jannell, Group leader"
   ]
  },
  {
   "cell_type": "markdown",
   "metadata": {},
   "source": [
    "# Description\n",
    "\n",
    "The Silly Security System or the SSS will play a sound when the door opens. This will allow the person who opens the door to either make a cool entrance/exit with the preferred sound set. There are also three buttons to either increase or decrease the volume or to mute the sound."
   ]
  },
  {
   "cell_type": "markdown",
   "metadata": {
    "jp-MarkdownHeadingCollapsed": true
   },
   "source": [
    "# Hardware\n",
    "\n",
    "-QRD1114 Optical Detector to detect the door when it opens \\\n",
    "-$330 \\mathsf{\\Omega}$ current-limiting resistor and a $10 \\mathsf{k\\Omega}$ pull-up resistor for the optical detector set-up.\\\n",
    "-JBL clip 3 speaker with audio jack to output the sound played \\\n",
    "-3 buttons to increase or decrease the volume or mute the sound"
   ]
  },
  {
   "cell_type": "markdown",
   "metadata": {},
   "source": [
    "# Operation\n",
    "\n",
    "When you open the door you will be greeted or sent off with a set sound. There are three buttons to control the volume by increasing, decreasing, or muting the volume."
   ]
  },
  {
   "cell_type": "markdown",
   "metadata": {},
   "source": [
    "# Data\n",
    "\n",
    "As stated in the capstone guidelines notebook, your project must have 4 data components:\n",
    "\n",
    "1. **Collect** data\n",
    "2. **Process** data\n",
    "3. **Display** data\n",
    "4. **Interpret** data\n",
    "\n",
    "The Silly Security System first collects data using the phototransistor to detect when the door opens and the buttons for volume. Once the signal appears from the door being opened our code processes the signal using a numpy array and plays a sound using the speaker. You can interpret the data by enjoying the sound over the speaker and using the buttons to adjust the volume of the projects success."
   ]
  },
  {
   "cell_type": "markdown",
   "metadata": {},
   "source": [
    "# Wiring\n",
    "\n",
    "Include a a description or schematic of how all hardware elements are connected to your RPi. Be specific about what is connected where. There are several websites that allow you to create circuit schematics for free, such as [this one](https://www.circuit-diagram.org/editor/)."
   ]
  },
  {
   "cell_type": "markdown",
   "metadata": {},
   "source": [
    "# Code\n",
    "\n",
    "Include all the code that makes your project run. It can be in a single code cell or split between many cells, whatever you prefer. Add documentation to explain what different portions of your code do."
   ]
  },
  {
   "cell_type": "markdown",
   "metadata": {},
   "source": [
    "# Credits\n",
    "\n",
    "[Pygame](https://www.pygame.org/docs/) 1.9.6\n"
   ]
  }
 ],
 "metadata": {
  "kernelspec": {
   "display_name": "Python 3 (ipykernel)",
   "language": "python",
   "name": "python3"
  },
  "language_info": {
   "codemirror_mode": {
    "name": "ipython",
    "version": 3
   },
   "file_extension": ".py",
   "mimetype": "text/x-python",
   "name": "python",
   "nbconvert_exporter": "python",
   "pygments_lexer": "ipython3",
   "version": "3.9.2"
  },
  "varInspector": {
   "cols": {
    "lenName": 16,
    "lenType": 16,
    "lenVar": 40
   },
   "kernels_config": {
    "python": {
     "delete_cmd_postfix": "",
     "delete_cmd_prefix": "del ",
     "library": "var_list.py",
     "varRefreshCmd": "print(var_dic_list())"
    },
    "r": {
     "delete_cmd_postfix": ") ",
     "delete_cmd_prefix": "rm(",
     "library": "var_list.r",
     "varRefreshCmd": "cat(var_dic_list()) "
    }
   },
   "types_to_exclude": [
    "module",
    "function",
    "builtin_function_or_method",
    "instance",
    "_Feature"
   ],
   "window_display": false
  }
 },
 "nbformat": 4,
 "nbformat_minor": 4
}
